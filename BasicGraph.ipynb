{
 "cells": [
  {
   "cell_type": "code",
   "execution_count": null,
   "id": "7055f65c",
   "metadata": {},
   "outputs": [],
   "source": [
    "from typing import TypedDict, Literal\n",
    "\n",
    "class PortfolioState(TypedDict):\n",
    "    amount_usd: float\n",
    "    total_usd: float\n",
    "    total_inr:float\n",
    "    target_currency: Literal['USD', 'INR']"
   ]
  },
  {
   "cell_type": "code",
   "execution_count": null,
   "id": "f2af65df",
   "metadata": {},
   "outputs": [],
   "source": [
    "def calc_total(state: PortfolioState) -> PortfolioState:\n",
    "    \"\"\"\n",
    "    Calculate the total USD and INR based on the amount in USD.\n",
    "    \"\"\"\n",
    "    state['total_usd'] = state['amount_usd'] * 1.08  # Assuming 1 USD = 1 USD\n",
    "    return state\n",
    "def calc_total_inr(state: PortfolioState) -> PortfolioState:\n",
    "    \"\"\"\n",
    "    Calculate the total INR based on the amount in USD.\n",
    "    \"\"\"\n",
    "    state['total_inr'] = state['amount_usd'] * 75.0  # Assuming 1 USD = 75 INR\n",
    "    return state\n",
    "\n",
    "def choose_conversion(state: PortfolioState, conversion_type: str) -> PortfolioState:\n",
    "    return state[\"target\"_\"currency\"] "
   ]
  },
  {
   "cell_type": "code",
   "execution_count": null,
   "id": "4b0fb57f",
   "metadata": {},
   "outputs": [],
   "source": [
    "from langgraph.graph import StateGraph, START,END\n",
    "builder=StateGraph(PortfolioState)\n",
    "builder.add_node(calc_total, name=\"calc_total\" )\n",
    "builder.add_node(calc_total_inr, name=\"calc_total_inr\" )\n",
    "builder.add_edge(START, \"calc_total\")\n",
    "builder.add_edge(\"calc_total\", \"calc_total_inr\")\n",
    "builder.add_edge(\"calc_total_inr\", END)\n",
    "\n",
    "builder.add_edge(START,\"calc_total\")\n",
    "builder.add_conditional_edges(\"calc_total\")\n",
    "\n",
    "graph = builder.compile()"
   ]
  },
  {
   "cell_type": "code",
   "execution_count": null,
   "id": "6b8ac044",
   "metadata": {},
   "outputs": [
    {
     "data": {
      "image/png": "[encoded data removed]",
      "text/plain": [
       "<IPython.core.display.Image object>"
      ]
     },
     "metadata": {},
     "output_type": "display_data"
    }
   ],
   "source": [
    "from IPython.display import display,Image\n",
    "\n",
    "display(Image(graph.get_graph().draw_mermaid_png()))\n"
   ]
  },
  {
   "cell_type": "code",
   "execution_count": null,
   "id": "a94719e8",
   "metadata": {},
   "outputs": [],
   "source": []
  }
 ],
 "metadata": {
  "kernelspec": {
   "display_name": "projects",
   "language": "python",
   "name": "python3"
  },
  "language_info": {
   "codemirror_mode": {
    "name": "ipython",
    "version": 3
   },
   "file_extension": ".py",
   "mimetype": "text/x-python",
   "name": "python",
   "nbconvert_exporter": "python",
   "pygments_lexer": "ipython3",
   "version": "3.11.9"
  }
 },
 "nbformat": 4,
 "nbformat_minor": 5
}
