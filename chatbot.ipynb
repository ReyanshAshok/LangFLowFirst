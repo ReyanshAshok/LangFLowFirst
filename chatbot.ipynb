{
 "cells": [
  {
   "cell_type": "code",
   "execution_count": 1,
   "id": "62a07fca",
   "metadata": {},
   "outputs": [
    {
     "data": {
      "text/plain": [
       "True"
      ]
     },
     "execution_count": 1,
     "metadata": {},
     "output_type": "execute_result"
    }
   ],
   "source": [
    "from dotenv import load_dotenv\n",
    "load_dotenv()"
   ]
  },
  {
   "cell_type": "code",
   "execution_count": 28,
   "id": "9e7269f4",
   "metadata": {},
   "outputs": [],
   "source": [
    "from langchain.chat_models import init_chat_model\n",
    "from langgraph.graph import StateGraph, START, END\n",
    "from langgraph.graph.message import add_messages\n",
    "from typing import Annotated"
   ]
  },
  {
   "cell_type": "code",
   "execution_count": 3,
   "id": "5009a273",
   "metadata": {},
   "outputs": [],
   "source": [
    "llm = init_chat_model(\"google_genai:gemini-2.0-flash\")"
   ]
  },
  {
   "cell_type": "code",
   "execution_count": 27,
   "id": "e387e6e1",
   "metadata": {},
   "outputs": [],
   "source": [
    "from typing import TypedDict\n",
    "class State(TypedDict):\n",
    "    messages: Annotated[list,add_messages]\n",
    "\n",
    "def chatbot(state: State) -> State:\n",
    "    response = [llm.invoke(state[\"messages\"])]\n",
    "    return ({\"messages\": response})\n",
    "\n",
    "builder = StateGraph(State)\n",
    "builder.add_node(\"chatbot\", chatbot)\n",
    "builder.add_edge(START, \"chatbot\")\n",
    "builder.add_edge(\"chatbot\", END)\n",
    "graph = builder.compile()"
   ]
  },
  {
   "cell_type": "code",
   "execution_count": 29,
   "id": "fb97fa4e",
   "metadata": {},
   "outputs": [
    {
     "name": "stdout",
     "output_type": "stream",
     "text": [
      "{'messages': [HumanMessage(content='Who walked on the moon first?', additional_kwargs={}, response_metadata={}, id='b7d0d6e1-1e90-4d6e-b17b-7da657eeac40'), AIMessage(content='Neil Armstrong was the first person to walk on the moon.', additional_kwargs={}, response_metadata={'prompt_feedback': {'block_reason': 0, 'safety_ratings': []}, 'finish_reason': 'STOP', 'model_name': 'gemini-2.0-flash', 'safety_ratings': []}, id='run--e9faa434-3d4d-4166-a334-284f161aad64-0', usage_metadata={'input_tokens': 7, 'output_tokens': 13, 'total_tokens': 20, 'input_token_details': {'cache_read': 0}})]}\n"
     ]
    }
   ],
   "source": [
    "messages = {\"role\": \"user\", \"content\": \"Who walked on the moon first?\"}\n",
    "result = graph.invoke({\"messages\": [messages]})\n",
    "print(result)"
   ]
  },
  {
   "cell_type": "code",
   "execution_count": null,
   "id": "9d6f18dd",
   "metadata": {},
   "outputs": [],
   "source": [
    "while True:\n",
    "    in_message=input(\"You: \")\n",
    "    if in_message.lower() in {\"exit\", \"quit\", \"stop\"}:\n",
    "        print(\"Exiting the chatbot.\")\n",
    "        break\n",
    "    if state is None:\n",
    "        state: State = {\n",
    "            \"message\": [{\"role\": \"user\", \"content\":in_message}]\n",
    "        }\n",
    "    else:\n",
    "        state[\"messages\"].append({\"role\":\"user\", \"content\":in_message})\n",
    "    \n",
    "    state= graph.invoke(state)\n",
    "    print(\"Bot: \", state[\"messages\"][-1][\"content\"])"
   ]
  },
  {
   "cell_type": "code",
   "execution_count": null,
   "id": "45f9c7d1",
   "metadata": {},
   "outputs": [],
   "source": []
  }
 ],
 "metadata": {
  "kernelspec": {
   "display_name": "projects",
   "language": "python",
   "name": "python3"
  },
  "language_info": {
   "codemirror_mode": {
    "name": "ipython",
    "version": 3
   },
   "file_extension": ".py",
   "mimetype": "text/x-python",
   "name": "python",
   "nbconvert_exporter": "python",
   "pygments_lexer": "ipython3",
   "version": "3.11.9"
  }
 },
 "nbformat": 4,
 "nbformat_minor": 5
}
